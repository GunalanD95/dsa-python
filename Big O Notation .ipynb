{
 "cells": [
  {
   "cell_type": "code",
   "execution_count": 9,
   "id": "c4aa1995",
   "metadata": {
    "scrolled": true
   },
   "outputs": [
    {
     "ename": "SyntaxError",
     "evalue": "invalid syntax (Temp/ipykernel_2632/3828370766.py, line 1)",
     "output_type": "error",
     "traceback": [
      "\u001b[1;36m  File \u001b[1;32m\"C:\\Users\\admin\\AppData\\Local\\Temp/ipykernel_2632/3828370766.py\"\u001b[1;36m, line \u001b[1;32m1\u001b[0m\n\u001b[1;33m    BIG-O-NOTATION (time complexitiy)\u001b[0m\n\u001b[1;37m                         ^\u001b[0m\n\u001b[1;31mSyntaxError\u001b[0m\u001b[1;31m:\u001b[0m invalid syntax\n"
     ]
    }
   ],
   "source": [
    "BIG-O-NOTATION (time complexitiy)"
   ]
  },
  {
   "cell_type": "code",
   "execution_count": 10,
   "id": "617cf6c0",
   "metadata": {},
   "outputs": [
    {
     "name": "stdout",
     "output_type": "stream",
     "text": [
      "[1, 2, 3, 4, 5, 6]\n"
     ]
    }
   ],
   "source": [
    "def sq_num(nums):\n",
    "    sq_nums = []\n",
    "    for n in nums:\n",
    "        #sq_nums.append(n*n)\n",
    "        sq_nums.append(n)\n",
    "    return sq_nums\n",
    "\n",
    "print(sq_num([1,2,3,4,5,6]))"
   ]
  },
  {
   "cell_type": "code",
   "execution_count": 42,
   "id": "241c7e02",
   "metadata": {
    "scrolled": false
   },
   "outputs": [
    {
     "name": "stdout",
     "output_type": "stream",
     "text": [
      "1 is a duplicate\n",
      "2 is a duplicate\n",
      "5 is a duplicate\n",
      "8 is a duplicate\n",
      "5 is a duplicate\n"
     ]
    }
   ],
   "source": [
    "# DUPLICATES IN LIST\n",
    "\n",
    "list = [1,2,3,4,5,6,7,8,2,5,8,5,1]\n",
    "duplicate = None\n",
    "for i in range(len(list)): # length of the list as 0 to 12\n",
    "    for j in range(i+1, len(list)):\n",
    "        if list[i] == list[j]:\n",
    "            duplicate = list[i]\n",
    "            print(duplicate,\"is a duplicate\")\n",
    "            break\n"
   ]
  },
  {
   "cell_type": "code",
   "execution_count": 49,
   "id": "3b97b533",
   "metadata": {},
   "outputs": [
    {
     "name": "stdout",
     "output_type": "stream",
     "text": [
      "9\n",
      "runtime: 0.0009970664978027344\n",
      "100000000\n",
      "42\n",
      "runtime-longerlist: 0.0010099411010742188\n"
     ]
    }
   ],
   "source": [
    "import time\n",
    "# CONSTANT TIME\n",
    "\n",
    "\n",
    "def take_first(my_list):\n",
    "    print(my_list[0])\n",
    "\n",
    "small_list = [9,8,8,6,9,8,8,6,9,8,8,6,9,8,8,6,9,8,8,6,9,8,8,6,9,8,8,6,9,8,8,6,9,8,8,6,9,8,8,6,9,8,8,6,9,8,8,6,9,8,8,6,]\n",
    "\n",
    "time.clock = time.time\n",
    "\n",
    "tic = time.clock()\n",
    "take_first(small_list)\n",
    "toc = time.clock()\n",
    "\n",
    "run_time = toc - tic\n",
    "print(\"runtime:\",run_time)\n",
    "\n",
    "\n",
    "\n",
    "longer_list = [42] * 10 ** 8\n",
    "print(len(longer_list))\n",
    "\n",
    "tics = time.clock()\n",
    "take_first(longer_list)\n",
    "tocs = time.clock()\n",
    "\n",
    "run_times = tocs - tics\n",
    "print(\"runtime-longerlist:\",run_times)"
   ]
  },
  {
   "cell_type": "code",
   "execution_count": null,
   "id": "371d465c",
   "metadata": {},
   "outputs": [],
   "source": []
  }
 ],
 "metadata": {
  "kernelspec": {
   "display_name": "Python 3 (ipykernel)",
   "language": "python",
   "name": "python3"
  },
  "language_info": {
   "codemirror_mode": {
    "name": "ipython",
    "version": 3
   },
   "file_extension": ".py",
   "mimetype": "text/x-python",
   "name": "python",
   "nbconvert_exporter": "python",
   "pygments_lexer": "ipython3",
   "version": "3.9.2"
  }
 },
 "nbformat": 4,
 "nbformat_minor": 5
}
