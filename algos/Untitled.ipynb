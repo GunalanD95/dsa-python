{
 "cells": [
  {
   "cell_type": "code",
   "execution_count": 9,
   "id": "ad57e72c",
   "metadata": {
    "scrolled": true
   },
   "outputs": [
    {
     "ename": "SyntaxError",
     "evalue": "invalid syntax (Temp/ipykernel_2632/3828370766.py, line 1)",
     "output_type": "error",
     "traceback": [
      "\u001b[1;36m  File \u001b[1;32m\"C:\\Users\\admin\\AppData\\Local\\Temp/ipykernel_2632/3828370766.py\"\u001b[1;36m, line \u001b[1;32m1\u001b[0m\n\u001b[1;33m    BIG-O-NOTATION (time complexitiy)\u001b[0m\n\u001b[1;37m                         ^\u001b[0m\n\u001b[1;31mSyntaxError\u001b[0m\u001b[1;31m:\u001b[0m invalid syntax\n"
     ]
    }
   ],
   "source": [
    "BIG-O-NOTATION (time complexitiy)"
   ]
  },
  {
   "cell_type": "code",
   "execution_count": 10,
   "id": "a4efe883",
   "metadata": {},
   "outputs": [
    {
     "name": "stdout",
     "output_type": "stream",
     "text": [
      "[1, 2, 3, 4, 5, 6]\n"
     ]
    }
   ],
   "source": [
    "def sq_num(nums):\n",
    "    sq_nums = []\n",
    "    for n in nums:\n",
    "        #sq_nums.append(n*n)\n",
    "        sq_nums.append(n)\n",
    "    return sq_nums\n",
    "\n",
    "print(sq_num([1,2,3,4,5,6]))"
   ]
  },
  {
   "cell_type": "code",
   "execution_count": 18,
   "id": "882cb622",
   "metadata": {
    "scrolled": false
   },
   "outputs": [
    {
     "name": "stdout",
     "output_type": "stream",
     "text": [
      "1 is a duplicate\n",
      "2 is a duplicate\n",
      "5 is a duplicate\n",
      "8 is a duplicate\n",
      "5 is a duplicate\n"
     ]
    }
   ],
   "source": [
    "# DUPLICATES IN LIST\n",
    "\n",
    "list = [1,2,3,4,5,6,7,8,2,5,8,5,1]\n",
    "\n",
    "for i in range(len(list)): # length of the list as 0 to 12\n",
    "    for j in range(i+1, len(list)):\n",
    "        if list[i] == list[j]:\n",
    "            print(list[i] ,\"is a duplicate\")\n",
    "            break\n"
   ]
  },
  {
   "cell_type": "code",
   "execution_count": null,
   "id": "fc698bb8",
   "metadata": {},
   "outputs": [],
   "source": []
  }
 ],
 "metadata": {
  "kernelspec": {
   "display_name": "Python 3 (ipykernel)",
   "language": "python",
   "name": "python3"
  },
  "language_info": {
   "codemirror_mode": {
    "name": "ipython",
    "version": 3
   },
   "file_extension": ".py",
   "mimetype": "text/x-python",
   "name": "python",
   "nbconvert_exporter": "python",
   "pygments_lexer": "ipython3",
   "version": "3.9.2"
  }
 },
 "nbformat": 4,
 "nbformat_minor": 5
}
